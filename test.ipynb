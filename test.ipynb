{
 "cells": [
  {
   "cell_type": "code",
   "execution_count": 4,
   "metadata": {},
   "outputs": [
    {
     "name": "stdout",
     "output_type": "stream",
     "text": [
      "Podcast Name: Disordered: Anxiety Help\n",
      "Publisher: Josh Fletcher and Drew Linsalata\n",
      "Description: Disordered is the podcast that delivers real, evidence-based, actionable talk about anxiety disorders and anxiety recovery in a kind, compassionate, community-oriented environment. Josh Fletcher is a qualified psychotherapist in the UK. Drew Linsalata is a therapist practicing under supervision in the US. They're both bestselling authors in the anxiety and mental health space. Josh and Drew are funny, friendly, and they have a knack for combining lived experience, formal training, and professional experience in an encouraging, inspiring, and compassionate mental health message.\n",
      "Total Episodes: 100\n"
     ]
    }
   ],
   "source": [
    "import requests\n",
    "import base64\n",
    "\n",
    "# Replace with your Spotify credentials\n",
    "CLIENT_ID = \"a0723c247ed74e03b738798bc5494d47\"\n",
    "CLIENT_SECRET = \"137f175bd88240808aad88925e38a88a\"\n",
    "\n",
    "# Function to get access token\n",
    "def get_access_token():\n",
    "    auth_url = \"https://accounts.spotify.com/api/token\"\n",
    "    auth_header = base64.b64encode(f\"{CLIENT_ID}:{CLIENT_SECRET}\".encode()).decode()\n",
    "    headers = {\n",
    "        \"Authorization\": f\"Basic {auth_header}\",\n",
    "        \"Content-Type\": \"application/x-www-form-urlencoded\"\n",
    "    }\n",
    "    data = {\"grant_type\": \"client_credentials\"}\n",
    "\n",
    "    response = requests.post(auth_url, headers=headers, data=data)\n",
    "    response_data = response.json()\n",
    "    \n",
    "    return response_data.get(\"access_token\")\n",
    "\n",
    "# Function to get podcast (show) details\n",
    "def get_podcast_info(show_id):\n",
    "    access_token = get_access_token()\n",
    "    if not access_token:\n",
    "        print(\"Failed to retrieve access token.\")\n",
    "        return\n",
    "\n",
    "    url = f\"https://api.spotify.com/v1/shows/{show_id}\"\n",
    "    headers = {\"Authorization\": f\"Bearer {access_token}\"}\n",
    "    \n",
    "    response = requests.get(url, headers=headers)\n",
    "    \n",
    "    if response.status_code == 200:\n",
    "        return response.json()\n",
    "    else:\n",
    "        print(f\"Error: {response.status_code}, {response.text}\")\n",
    "\n",
    "# Example: Replace with your podcast's show ID\n",
    "show_id = \"6t3lS8pB0XK9OyErfXS5aJ\"  # Example show ID\n",
    "podcast_info = get_podcast_info(show_id)\n",
    "\n",
    "if podcast_info:\n",
    "    print(\"Podcast Name:\", podcast_info[\"name\"])\n",
    "    print(\"Publisher:\", podcast_info[\"publisher\"])\n",
    "    print(\"Description:\", podcast_info[\"description\"])\n",
    "    print(\"Total Episodes:\", podcast_info[\"total_episodes\"])\n"
   ]
  },
  {
   "cell_type": "code",
   "execution_count": null,
   "metadata": {},
   "outputs": [
    {
     "data": {
      "text/html": [
       "<div>\n",
       "<style scoped>\n",
       "    .dataframe tbody tr th:only-of-type {\n",
       "        vertical-align: middle;\n",
       "    }\n",
       "\n",
       "    .dataframe tbody tr th {\n",
       "        vertical-align: top;\n",
       "    }\n",
       "\n",
       "    .dataframe thead th {\n",
       "        text-align: right;\n",
       "    }\n",
       "</style>\n",
       "<table border=\"1\" class=\"dataframe\">\n",
       "  <thead>\n",
       "    <tr style=\"text-align: right;\">\n",
       "      <th></th>\n",
       "      <th>Podcast name</th>\n",
       "      <th>Description</th>\n",
       "      <th>Spotify</th>\n",
       "      <th>Apple</th>\n",
       "      <th>Hosts</th>\n",
       "    </tr>\n",
       "  </thead>\n",
       "  <tbody>\n",
       "    <tr>\n",
       "      <th>0</th>\n",
       "      <td>Therapy in a nutshell</td>\n",
       "      <td>NaN</td>\n",
       "      <td>https://open.spotify.com/show/3zYMh54e1Wd6hOBq...</td>\n",
       "      <td>https://podcasts.apple.com/us/podcast/therapy-...</td>\n",
       "      <td>NaN</td>\n",
       "    </tr>\n",
       "  </tbody>\n",
       "</table>\n",
       "</div>"
      ],
      "text/plain": [
       "            Podcast name  Description  \\\n",
       "0  Therapy in a nutshell          NaN   \n",
       "\n",
       "                                             Spotify  \\\n",
       "0  https://open.spotify.com/show/3zYMh54e1Wd6hOBq...   \n",
       "\n",
       "                                               Apple  Hosts  \n",
       "0  https://podcasts.apple.com/us/podcast/therapy-...    NaN  "
      ]
     },
     "execution_count": 1,
     "metadata": {},
     "output_type": "execute_result"
    }
   ],
   "source": [
    "import pandas as pd\n",
    "name = \"miscellaneous.xlsx\"\n",
    "df = pd.read_excel(name,sheet_name=\"podcasts\")\n",
    "df"
   ]
  },
  {
   "cell_type": "code",
   "execution_count": 2,
   "metadata": {},
   "outputs": [],
   "source": [
    "df['spotify_ids']=df['Spotify'].apply(lambda row : row.split('show/')[1])"
   ]
  },
  {
   "cell_type": "code",
   "execution_count": 5,
   "metadata": {},
   "outputs": [],
   "source": [
    "def fetch_podcast_details(show_id):\n",
    "    info = get_podcast_info(show_id)\n",
    "    return {\n",
    "        'description': info.get('description', ''),\n",
    "        'publisher': info.get('publisher', '')\n",
    "    } if info else {'description': '', 'publisher': ''}\n",
    "\n",
    "# Apply function once and expand into multiple columns\n",
    "df[['Description', 'Hosts']] = df['spotify_ids'].apply(fetch_podcast_details).apply(pd.Series)"
   ]
  },
  {
   "cell_type": "code",
   "execution_count": 6,
   "metadata": {},
   "outputs": [
    {
     "data": {
      "text/html": [
       "<div>\n",
       "<style scoped>\n",
       "    .dataframe tbody tr th:only-of-type {\n",
       "        vertical-align: middle;\n",
       "    }\n",
       "\n",
       "    .dataframe tbody tr th {\n",
       "        vertical-align: top;\n",
       "    }\n",
       "\n",
       "    .dataframe thead th {\n",
       "        text-align: right;\n",
       "    }\n",
       "</style>\n",
       "<table border=\"1\" class=\"dataframe\">\n",
       "  <thead>\n",
       "    <tr style=\"text-align: right;\">\n",
       "      <th></th>\n",
       "      <th>Podcast name</th>\n",
       "      <th>Description</th>\n",
       "      <th>Spotify</th>\n",
       "      <th>Apple</th>\n",
       "      <th>Hosts</th>\n",
       "      <th>spotify_ids</th>\n",
       "    </tr>\n",
       "  </thead>\n",
       "  <tbody>\n",
       "    <tr>\n",
       "      <th>0</th>\n",
       "      <td>Therapy in a nutshell</td>\n",
       "      <td>I’m Emma McAdam, a Licensed Marriage and Famil...</td>\n",
       "      <td>https://open.spotify.com/show/3zYMh54e1Wd6hOBq...</td>\n",
       "      <td>https://podcasts.apple.com/us/podcast/therapy-...</td>\n",
       "      <td>Therapy in a Nutshell -Emma McAdam</td>\n",
       "      <td>3zYMh54e1Wd6hOBqV0vU2W?</td>\n",
       "    </tr>\n",
       "  </tbody>\n",
       "</table>\n",
       "</div>"
      ],
      "text/plain": [
       "            Podcast name                                        Description  \\\n",
       "0  Therapy in a nutshell  I’m Emma McAdam, a Licensed Marriage and Famil...   \n",
       "\n",
       "                                             Spotify  \\\n",
       "0  https://open.spotify.com/show/3zYMh54e1Wd6hOBq...   \n",
       "\n",
       "                                               Apple  \\\n",
       "0  https://podcasts.apple.com/us/podcast/therapy-...   \n",
       "\n",
       "                                Hosts              spotify_ids  \n",
       "0  Therapy in a Nutshell -Emma McAdam  3zYMh54e1Wd6hOBqV0vU2W?  "
      ]
     },
     "execution_count": 6,
     "metadata": {},
     "output_type": "execute_result"
    }
   ],
   "source": [
    "df"
   ]
  },
  {
   "cell_type": "code",
   "execution_count": 19,
   "metadata": {},
   "outputs": [],
   "source": [
    "df['Description']=df['spotify_ids'].apply(lambda row :get_podcast_info(row)['description'])\n",
    "df['Hosts']=df['spotify_ids'].apply(lambda row :get_podcast_info(row)['publisher'])"
   ]
  },
  {
   "cell_type": "code",
   "execution_count": 30,
   "metadata": {},
   "outputs": [],
   "source": [
    "from openpyxl import load_workbook\n",
    "\n",
    "file_path = \"anxiety_resources.xlsx\"\n",
    "with pd.ExcelWriter(file_path, engine='openpyxl', mode='a', if_sheet_exists=\"replace\") as writer:\n",
    "    df.to_excel(writer, sheet_name=\"podcasts\", index=False)\n"
   ]
  }
 ],
 "metadata": {
  "kernelspec": {
   "display_name": "mental_project",
   "language": "python",
   "name": "python3"
  },
  "language_info": {
   "codemirror_mode": {
    "name": "ipython",
    "version": 3
   },
   "file_extension": ".py",
   "mimetype": "text/x-python",
   "name": "python",
   "nbconvert_exporter": "python",
   "pygments_lexer": "ipython3",
   "version": "3.10.2"
  }
 },
 "nbformat": 4,
 "nbformat_minor": 2
}
